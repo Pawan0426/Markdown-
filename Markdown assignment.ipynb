{
 "cells": [
  {
   "cell_type": "markdown",
   "metadata": {},
   "source": [
    "**About me** \n",
    "\n",
    " I am Pawan from Nepal, I recently finished my Master in Financial Accounting. After my master I decided to do data analyst course becuase it is in demand.\n",
    "\n",
    " "
   ]
  },
  {
   "cell_type": "markdown",
   "metadata": {},
   "source": [
    "**My Hobbies** = for the bullets start with dash sigh or astrix sign as shown below. For sub bullets use tab and use dash or astrix as shown below\n",
    "\n",
    "- Reading Books\n",
    "\n",
    "- Running in the park\n",
    "* Hanging out with friends\n",
    "- Hiking \n",
    "    \n",
    "    - partying \n",
    "    * drinking"
   ]
  },
  {
   "cell_type": "markdown",
   "metadata": {},
   "source": [
    "**Indented Quoting** = use greater than sign (>) and then space and type the text. Example shown in below.\n",
    "\n",
    "> **Dear life make me your bitch all you can coz one fine day I will make you mine.**"
   ]
  },
  {
   "cell_type": "markdown",
   "metadata": {},
   "source": [
    "**Line Breaks** = to break a line we have to use `<br>` function. Example shown in below\n",
    "\n",
    "* I am Pawan I am Student I am ML student\n",
    "- I am Pawan <br> I am a student <br> I am ML studnt \n"
   ]
  },
  {
   "cell_type": "markdown",
   "metadata": {},
   "source": [
    "**Change Colore** =  To change color of sentence we have to use given function `<font color=colorname>text</font>`. For example\n",
    "\n",
    "* <font color = red> This sentence is in red color.</font>\n",
    "- <font color = yellow> All the letters in this sentence are in yellow color.</font>"
   ]
  },
  {
   "cell_type": "markdown",
   "metadata": {},
   "source": [
    "**To creat table** = To creat table use pipe operator to sepreat between two table and use dash sign as shown in example below\n",
    "\n",
    "table 1 | table 2 \n",
    "---------------------"
   ]
  },
  {
   "cell_type": "markdown",
   "metadata": {},
   "source": [
    "**List** = To start a list first start with number and space as shown below and for sub line press tab it will creat sub numbering. \n",
    "1. Eggs \n",
    "2. Breads\n",
    "    1. Milk\n",
    "    2. Juice"
   ]
  },
  {
   "cell_type": "markdown",
   "metadata": {},
   "source": [
    "this is Ml class\n",
    "___"
   ]
  },
  {
   "cell_type": "markdown",
   "metadata": {},
   "source": [
    "**Gussian disturibution**\n",
    "\n",
    "$$ p(x)=\\frac{1}{\\:\\sigma\\sqrt{2}}e^{-\\frac {1}{2}(\\frac{x-\\mu}{\\sigma})^2}$$\n",
    "\n",
    "Where $\\sigma$ is the standard deviation and $\\mu$ the mean"
   ]
  },
  {
   "cell_type": "markdown",
   "metadata": {},
   "source": [
    "**MSE** $$ MSE=\\frac{1}{n} \\sum(y-\\hat{y})^2$$\n",
    "\n",
    "$(y-\\hat{y})^2$ = The square of the difference between actual and predicted"
   ]
  },
  {
   "cell_type": "markdown",
   "metadata": {},
   "source": [
    "**Softmax Equation**\n",
    "\n",
    "$$softmax(x)_i = \\frac{exp(x_i)}{\\sum_{j}^{ }exp(x_j))}$$"
   ]
  },
  {
   "cell_type": "markdown",
   "metadata": {},
   "source": [
    "**binomial probability equation**\n",
    "\n",
    "$$p(x)=\\frac{n!}{(n-x)!x!}p^xq^n-x$$\n",
    "\n",
    "- n! = This starts the count of number of ways event can occure\n",
    "- n = this ends the count of number of ways events can occuer\n",
    "- x = the deletes duplication\n",
    "- p = This is the probability of success for x trails\n",
    "- q = This is the probability of success for x trails"
   ]
  },
  {
   "cell_type": "markdown",
   "metadata": {},
   "source": [
    "**Bayes equation**\n",
    "\n",
    "$$P(H|E)=\\frac{P(H)*P(E|H)}{P(E)}$$\n",
    "\n",
    "- **P(H|E)** = Posterior probability of 'H' given the evidence \n",
    "- **P(H)**   = Prior probility\n",
    "- **P(E|H)** = Likelyhood of the evidence 'E' if the hypotheis 'H' is true\n",
    "- **P(E)**  = Prior probability that the evedience itself is true"
   ]
  },
  {
   "cell_type": "markdown",
   "metadata": {},
   "source": [
    "**Mahalanobis Distance**\n",
    "$$D^2=(x-m)^T.C^{-1}.(x-m)$$\n",
    "\n",
    "- $D^2$ is the squre of mahalanobis distance\n",
    "- x is the vector of the observation (row in dataset)\n",
    "- m is the mean values of independent variables (mean of each column)\n",
    "- $C^{-1}$ is the inverse covariance matrix of independent variables"
   ]
  },
  {
   "cell_type": "markdown",
   "metadata": {},
   "source": [
    "**Hessian matrix**\n",
    "\n",
    "$$H_x=\\begin{bmatrix}\\frac{\\partial^2 f}{\\partial x^2{_1}}&\\frac{\\partial^2 f}{\\partial x_1 \\partial x_2}\\\\ \\frac{\\partial^2 f}{\\partial x_1x_2}&\\frac{\\partial^2 f}{\\partial x^2{_2}}\\end{bmatrix}$$\n",
    "\n"
   ]
  },
  {
   "cell_type": "markdown",
   "metadata": {},
   "source": [
    "**Hessian Matrix**\n",
    "\n",
    "$$Hf=\\begin{bmatrix}\\frac{\\partial^2 f}{\\partial x^2{_1}}&\\frac{\\partial^2 f}{\\partial x_1 \\partial x_2}\\cdots&\n",
    "\\frac{\\partial^2 f}{\\partial x_1 \\partial x_n}\\\\ \\frac{\\partial^2 f}{\\partial x_1 x_2}&\\frac{\\partial^2 f}{\\partial x^2{_2}}\\cdots&\\frac{\\partial^2 f}{\\partial x_2 \\partial x_n}\\\\ \\vdots &\\vdots\\ddots &\\vdots\\\\ \\frac{\\partial^2 f}{\\partial x_1 \\partial x_n}&\\frac{\\partial^2 f}{\\partial x_n \\partial x_2}\\cdots&\\frac{\\partial^2 f}{\\partial x^2{}_n} \\end{bmatrix}$$\\"
   ]
  },
  {
   "cell_type": "markdown",
   "metadata": {},
   "source": [
    "**Gradient Descent**\n",
    "\n",
    "$$f'(m,b)=\\begin{bmatrix}\\frac{df}{dm}\\\\ \\frac{df}{db}\\end{bmatrix}=\\begin{bmatrix}\\frac{1}{N}\\sum-2x_i(y_i-(mx_i+b))\\\\ \\frac {1}{N}\\sum-2(y_i-(mx_i+b))\\end{bmatrix}$$"
   ]
  },
  {
   "cell_type": "markdown",
   "metadata": {},
   "source": [
    "**Skills for data analyst** = This is the example of heading\n",
    "\n",
    "# Good at statistic\n",
    "## Programming skills\n",
    "### Data management skills\n",
    "#### Data Cleaning skills\n",
    "##### Presentation skills\n",
    "\n"
   ]
  },
  {
   "cell_type": "markdown",
   "metadata": {},
   "source": []
  }
 ],
 "metadata": {
  "kernelspec": {
   "display_name": "Python 3",
   "language": "python",
   "name": "python3"
  },
  "language_info": {
   "codemirror_mode": {
    "name": "ipython",
    "version": 3
   },
   "file_extension": ".py",
   "mimetype": "text/x-python",
   "name": "python",
   "nbconvert_exporter": "python",
   "pygments_lexer": "ipython3",
   "version": "3.7.4"
  },
  "toc": {
   "base_numbering": 1,
   "nav_menu": {},
   "number_sections": true,
   "sideBar": true,
   "skip_h1_title": false,
   "title_cell": "Table of Contents",
   "title_sidebar": "Contents",
   "toc_cell": false,
   "toc_position": {},
   "toc_section_display": true,
   "toc_window_display": false
  },
  "varInspector": {
   "cols": {
    "lenName": 16,
    "lenType": 16,
    "lenVar": 40
   },
   "kernels_config": {
    "python": {
     "delete_cmd_postfix": "",
     "delete_cmd_prefix": "del ",
     "library": "var_list.py",
     "varRefreshCmd": "print(var_dic_list())"
    },
    "r": {
     "delete_cmd_postfix": ") ",
     "delete_cmd_prefix": "rm(",
     "library": "var_list.r",
     "varRefreshCmd": "cat(var_dic_list()) "
    }
   },
   "types_to_exclude": [
    "module",
    "function",
    "builtin_function_or_method",
    "instance",
    "_Feature"
   ],
   "window_display": false
  }
 },
 "nbformat": 4,
 "nbformat_minor": 2
}
